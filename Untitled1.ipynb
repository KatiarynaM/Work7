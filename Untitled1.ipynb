{
  "metadata": {
    "language_info": {
      "codemirror_mode": {
        "name": "python",
        "version": 3
      },
      "file_extension": ".py",
      "mimetype": "text/x-python",
      "name": "python",
      "nbconvert_exporter": "python",
      "pygments_lexer": "ipython3",
      "version": "3.8"
    },
    "kernelspec": {
      "name": "python",
      "display_name": "Python (Pyodide)",
      "language": "python"
    }
  },
  "nbformat_minor": 4,
  "nbformat": 4,
  "cells": [
    {
      "cell_type": "markdown",
      "source": "Урок 7. Непараметрические тесты\n1-4 задачи решать с помощью функций, 5ю вручную",
      "metadata": {}
    },
    {
      "cell_type": "markdown",
      "source": "Выбрать тест и проверить, есть  ли различия между выборками:\n\n1 )  Даны две  независимые выборки. Не соблюдается условие нормальности\nx1  380,420, 290\ny1 140,360,200,900\n\nСделайте вывод по результатам, полученным с помощью функции\n",
      "metadata": {}
    },
    {
      "cell_type": "code",
      "source": "from scipy import stats\nimport numpy as np",
      "metadata": {
        "trusted": true
      },
      "execution_count": 3,
      "outputs": []
    },
    {
      "cell_type": "code",
      "source": "X =  np.array([380,420, 290])\nY =  np.array([140,360,200,900])\nstats.mannwhitneyu(X,Y)",
      "metadata": {
        "trusted": true
      },
      "execution_count": 5,
      "outputs": [
        {
          "execution_count": 5,
          "output_type": "execute_result",
          "data": {
            "text/plain": "MannwhitneyuResult(statistic=8.0, pvalue=0.6285714285714286)"
          },
          "metadata": {}
        }
      ]
    },
    {
      "cell_type": "markdown",
      "source": "MannwhitneyuResult(statistic=8.0, pvalue=0.6285714285714286)\np-value = 0.62. Принимаем нулевую гипотезу.Различий между группами не найдено.",
      "metadata": {}
    },
    {
      "cell_type": "markdown",
      "source": "2 ) Исследовалось влияние препарата на уровень давления пациентов. Сначала измерялось давление до приема препарата, потом через 10 минут и через 30 минут. Есть ли статистически значимые различия?\n\n1е измерение до приема препарата: 150, 160, 165, 145, 155\n2е измерение через 10 минут: 140, 155, 150,  130, 135\n3е измерение через 30 минут: 130, 130, 120, 130, 125\n",
      "metadata": {}
    },
    {
      "cell_type": "code",
      "source": "X1 =  np.array([150, 160, 165, 145, 155])\nX2=  np.array([140, 155, 150,  130, 135])\nX3 =  np.array([130, 130, 120, 130, 125])\nstats.friedmanchisquare(X1,X2,X3)",
      "metadata": {
        "trusted": true
      },
      "execution_count": 8,
      "outputs": [
        {
          "execution_count": 8,
          "output_type": "execute_result",
          "data": {
            "text/plain": "FriedmanchisquareResult(statistic=9.578947368421062, pvalue=0.00831683351100441)"
          },
          "metadata": {}
        }
      ]
    },
    {
      "cell_type": "code",
      "source": "FriedmanchisquareResult(statistic=9.578947368421062, pvalue=0.00831683351100441)\np-value = 0.008. Принимаем альтернативную гипотезу.Медианы в выборках различны. Препарат влияет на уровень давления.",
      "metadata": {},
      "execution_count": null,
      "outputs": []
    },
    {
      "cell_type": "markdown",
      "source": "3 ) Сравните 1 и 2 е измерения, предполагая, что 3го измерения через 30 минут не было.\n1е измерение до приема препарата: 150, 160, 165, 145, 155\n2е измерение через 10 минут: 140, 155, 150,  130, 135",
      "metadata": {}
    },
    {
      "cell_type": "code",
      "source": "X1 =  np.array([150, 160, 165, 145, 155])\nX2=  np.array([140, 155, 150,  130, 135])\nstats.wilcoxon(X1,X2)",
      "metadata": {
        "trusted": true
      },
      "execution_count": 9,
      "outputs": [
        {
          "execution_count": 9,
          "output_type": "execute_result",
          "data": {
            "text/plain": "WilcoxonResult(statistic=0.0, pvalue=0.0625)"
          },
          "metadata": {}
        }
      ]
    },
    {
      "cell_type": "markdown",
      "source": "WilcoxonResult(statistic=0.0, pvalue=0.0625)\np-value = 0.062. Принимаем нулевую гипотезу.Препарат НЕ влияет на уровень давления в первые 10 минут.",
      "metadata": {}
    },
    {
      "cell_type": "markdown",
      "source": "4) Даны 3 группы  учеников плавания.\nВ 1 группе время на дистанцию 50 м составляют:\n56, 60, 62, 55, 71, 67, 59, 58, 64, 67\n\nВторая группа : 57, 58, 69, 48, 72, 70, 68, 71, 50, 53\nТретья группа: 57, 67, 49, 48, 47, 55, 66, 51, 54",
      "metadata": {}
    },
    {
      "cell_type": "code",
      "source": "X =  np.array([150, 160, 165, 145, 155])\nY=  np.array([140, 155, 150,  130, 135])\nW =  np.array([130, 130, 120, 130, 125])\nstats.kruskal(X,Y,W)",
      "metadata": {
        "trusted": true
      },
      "execution_count": 11,
      "outputs": [
        {
          "execution_count": 11,
          "output_type": "execute_result",
          "data": {
            "text/plain": "KruskalResult(statistic=10.213868613138692, pvalue=0.006054616097364561)"
          },
          "metadata": {}
        }
      ]
    },
    {
      "cell_type": "markdown",
      "source": "KruskalResult(statistic=10.213868613138692, pvalue=0.006054616097364561)\np-value = 0.006. Принимаем альтернативную гипотезу.Медианы в выборках различны. У групп детей разный уровень подготовки.",
      "metadata": {}
    },
    {
      "cell_type": "markdown",
      "source": "5) Заявляется, что партия изготавливается со средним арифметическим 2,5 см. Проверить данную гипотезу, если известно, что размеры изделий подчинены нормальному закону распределения. Объем выборки 10, уровень статистической значимости 5%\n\n2.51, 2.35, 2.74, 2.56, 2.40, 2.36, 2.65, 2.7, 2.67, 2.34",
      "metadata": {}
    },
    {
      "cell_type": "code",
      "source": "n = 10\nX = 2.5\nx =  np.array([2.51, 2.35, 2.74, 2.56, 2.40, 2.36, 2.65, 2.7, 2.67, 2.34])\nx_m = np.mean(x)\nD = np.var(x, ddof = 1)\nt_table = stats.t.ppf(0.975, 9)\nprint(x_m - t_table * np.sqrt(D/n) , x_m + t_table * np.sqrt(D/n))\n\n ",
      "metadata": {
        "trusted": true
      },
      "execution_count": 13,
      "outputs": [
        {
          "name": "stdout",
          "text": "2.4155071095954663 2.640492890404533\n",
          "output_type": "stream"
        }
      ]
    },
    {
      "cell_type": "code",
      "source": "партия попадает в доверительный интервал (2,41 , 2,64). Среднее арифметическое 2,5 лежит на этом интервале, \nзначит партия соответствует заявленому размеру.",
      "metadata": {},
      "execution_count": null,
      "outputs": []
    }
  ]
}